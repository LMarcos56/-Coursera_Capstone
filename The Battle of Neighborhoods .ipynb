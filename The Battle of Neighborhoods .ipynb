{
 "cells": [
  {
   "cell_type": "markdown",
   "metadata": {},
   "source": [
    "# 1. Introduction\n",
    "\n",
    "### 1.1 Background\n",
    "\n",
    "\n",
    "The metropolitan region of Rio de Janeiro is composed of 17 municipalities.\n",
    "Violence in Rio de Janeiro (RJ) BR noticed several times. So, where are the biggest and smallest cases of theft in RJ? A company wants to rent a warehouse in the Metropolitan Region. But first, they want to know what has the least cases of goods theft.\n",
    " \n",
    "\n",
    "\n",
    "\n",
    "### 1.2 Problem\n",
    "The crime statistics dataset of Rio de Janeiro (RJ) found on http://www.ispdados.rj.gov.br/estatistica.html has crimes in each Boroughs of RJ from 2014 to 2020. The year 2019 being the latest we will be considering the data of that year which is actually old information as of now. The crime rates in each borough may have changed over time.\n",
    "This project aims to select the safest borough in RJ  based on the total crimes, explore the neighborhoods of that borough to find the 10 most common venues in each neighborhood and finally cluster the neighborhoods using k-mean clustering.\n",
    "### 1.3 Interest (solve the problem)\n",
    "Find a safer place for a company to rent a shed as its distribution center. \n",
    "With the base of file in the site: http://www.ispdados.rj.gov.br/estatistica.html and scrap the wikipidia site: http://www.ispdados.rj.gov.br/estatistica.html to find the list of municipies that compoe the Metropolitam Regian and the use foursqure to mark the better place for the company rent the shed. "
   ]
  }
 ],
 "metadata": {
  "kernelspec": {
   "display_name": "Python 3",
   "language": "python",
   "name": "python3"
  },
  "language_info": {
   "codemirror_mode": {
    "name": "ipython",
    "version": 3
   },
   "file_extension": ".py",
   "mimetype": "text/x-python",
   "name": "python",
   "nbconvert_exporter": "python",
   "pygments_lexer": "ipython3",
   "version": "3.7.7"
  }
 },
 "nbformat": 4,
 "nbformat_minor": 4
}
